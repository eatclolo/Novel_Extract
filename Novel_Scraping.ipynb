{
 "cells": [
  {
   "cell_type": "code",
   "execution_count": 1,
   "source": [
    "import requests\n",
    "import urllib3\n",
    "from bs4 import BeautifulSoup\n",
    "import os"
   ],
   "outputs": [],
   "metadata": {}
  },
  {
   "cell_type": "code",
   "execution_count": 11,
   "source": [
    "Novel_Site = 'https://ncode.syosetu.com/'\n",
    "Novel_code = 'n6362fe'\n",
    "Start_Chapter = 1\n",
    "End_Chapter = 1\n",
    "User_Agent = 'Mozilla/5.0 (Macintosh; Intel Mac OS X 10_15_7) AppleWebKit/537.36 (KHTML, like Gecko) Chrome/92.0.4515.107 Safari/537.36'\n",
    "Headers = {'user-agent': User_Agent}"
   ],
   "outputs": [],
   "metadata": {}
  },
  {
   "cell_type": "code",
   "execution_count": 12,
   "source": [
    "def Novel_Scrap(Start_Chapter, End_Chapter):\n",
    "    for Chapter_Number in range(Start_Chapter,End_Chapter+1):\n",
    "        Full_Site ='https://ncode.syosetu.com/' + str(Novel_code) + '/' + str(Chapter_Number) + '/'\n",
    "        Page = requests.get(Full_Site, headers = Headers)\n",
    "        soup = BeautifulSoup(Page.content, 'lxml')\n",
    "        Title = soup.find('a', attrs={'href':'/' + Novel_code + '/'}).text\n",
    "        Sub_Title = soup.find('p', attrs={'class':'novel_subtitle'}).text\n",
    "        Content = soup.find('div', attrs={'class':'novel_view'}).text\n",
    "        Dir_init(Title)\n",
    "        Txt_init(Title, Sub_Title, Content)"
   ],
   "outputs": [
    {
     "output_type": "stream",
     "name": "stdout",
     "text": [
      "1\n",
      "200\n"
     ]
    }
   ],
   "metadata": {}
  },
  {
   "cell_type": "code",
   "execution_count": null,
   "source": [
    "def Dir_init(Title):\n",
    "    if not (os.path.exists('./' + Title )):\n",
    "        os.mkdir('./' + Title)\n",
    "        os.mkdir('./' + Title + '/' + 'Japanese')\n",
    "        os.mkdir('./' + Title + '/' + 'Chinese')"
   ],
   "outputs": [],
   "metadata": {}
  },
  {
   "cell_type": "code",
   "execution_count": null,
   "source": [
    "def Txt_init(Title, Sub_Title, Content):\n",
    "    file = open('./' + Title + '/' + 'Japanese' + '/' + Sub_Title + '.txt','w+')\n",
    "    file.write(Content)\n",
    "    file.close()"
   ],
   "outputs": [],
   "metadata": {}
  }
 ],
 "metadata": {
  "orig_nbformat": 4,
  "language_info": {
   "name": "python",
   "version": "3.8.5",
   "mimetype": "text/x-python",
   "codemirror_mode": {
    "name": "ipython",
    "version": 3
   },
   "pygments_lexer": "ipython3",
   "nbconvert_exporter": "python",
   "file_extension": ".py"
  },
  "kernelspec": {
   "name": "python3",
   "display_name": "Python 3.8.5 64-bit ('base': conda)"
  },
  "interpreter": {
   "hash": "dca0ade3e726a953b501b15e8e990130d2b7799f14cfd9f4271676035ebe5511"
  }
 },
 "nbformat": 4,
 "nbformat_minor": 2
}